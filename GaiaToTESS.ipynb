{
 "cells": [
  {
   "cell_type": "code",
   "execution_count": 1,
   "metadata": {},
   "outputs": [],
   "source": [
    "import glob\n",
    "import matplotlib.pyplot as plt\n",
    "import pandas as pd"
   ]
  },
  {
   "cell_type": "code",
   "execution_count": 2,
   "metadata": {},
   "outputs": [],
   "source": [
    "imgs=glob.glob(\"*lc/fits/*\")\n",
    "fitsfilename=imgs[0]"
   ]
  },
  {
   "cell_type": "code",
   "execution_count": 6,
   "metadata": {},
   "outputs": [
    {
     "name": "stderr",
     "output_type": "stream",
     "text": [
      "WARNING: VerifyWarning: Verification reported errors: [astropy.io.fits.verify]\n",
      "WARNING: VerifyWarning: Card 'A_2_0' is not FITS standard (invalid value string: '3.29341755408e-05').  Fixed 'A_2_0' card to meet the FITS standard. [astropy.io.fits.verify]\n",
      "WARNING: VerifyWarning: Note: astropy.io.fits uses zero-based indexing.\n",
      " [astropy.io.fits.verify]\n",
      "WARNING: VerifyWarning: Card 'A_1_1' is not FITS standard (invalid value string: '1.51709339878e-05').  Fixed 'A_1_1' card to meet the FITS standard. [astropy.io.fits.verify]\n",
      "WARNING: VerifyWarning: Card 'A_0_2' is not FITS standard (invalid value string: '5.17973753556e-06').  Fixed 'A_0_2' card to meet the FITS standard. [astropy.io.fits.verify]\n",
      "WARNING: VerifyWarning: Card 'B_2_0' is not FITS standard (invalid value string: '2.97627426087e-06').  Fixed 'B_2_0' card to meet the FITS standard. [astropy.io.fits.verify]\n",
      "WARNING: VerifyWarning: Card 'B_1_1' is not FITS standard (invalid value string: '2.71948126373e-05').  Fixed 'B_1_1' card to meet the FITS standard. [astropy.io.fits.verify]\n",
      "WARNING: VerifyWarning: Card 'B_0_2' is not FITS standard (invalid value string: '1.66848449653e-05').  Fixed 'B_0_2' card to meet the FITS standard. [astropy.io.fits.verify]\n",
      "WARNING: VerifyWarning: Card 'AP_1_0' is not FITS standard (invalid value string: '1.79541533196e-06').  Fixed 'AP_1_0' card to meet the FITS standard. [astropy.io.fits.verify]\n",
      "WARNING: VerifyWarning: Card 'AP_0_1' is not FITS standard (invalid value string: '9.20624843151e-07').  Fixed 'AP_0_1' card to meet the FITS standard. [astropy.io.fits.verify]\n",
      "WARNING: VerifyWarning: Card 'AP_2_0' is not FITS standard (invalid value string: '-3.29292923201e-05').  Fixed 'AP_2_0' card to meet the FITS standard. [astropy.io.fits.verify]\n",
      "WARNING: VerifyWarning: Card 'AP_1_1' is not FITS standard (invalid value string: '-1.51738446887e-05').  Fixed 'AP_1_1' card to meet the FITS standard. [astropy.io.fits.verify]\n",
      "WARNING: VerifyWarning: Card 'AP_0_2' is not FITS standard (invalid value string: '-5.18321445978e-06').  Fixed 'AP_0_2' card to meet the FITS standard. [astropy.io.fits.verify]\n",
      "WARNING: VerifyWarning: Card 'BP_1_0' is not FITS standard (invalid value string: '8.99029048217e-07').  Fixed 'BP_1_0' card to meet the FITS standard. [astropy.io.fits.verify]\n",
      "WARNING: VerifyWarning: Card 'BP_0_1' is not FITS standard (invalid value string: '1.15967736014e-06').  Fixed 'BP_0_1' card to meet the FITS standard. [astropy.io.fits.verify]\n",
      "WARNING: VerifyWarning: Card 'BP_2_0' is not FITS standard (invalid value string: '-2.97837492348e-06').  Fixed 'BP_2_0' card to meet the FITS standard. [astropy.io.fits.verify]\n",
      "WARNING: VerifyWarning: Card 'BP_1_1' is not FITS standard (invalid value string: '-2.71998518336e-05').  Fixed 'BP_1_1' card to meet the FITS standard. [astropy.io.fits.verify]\n",
      "WARNING: VerifyWarning: Card 'BP_0_2' is not FITS standard (invalid value string: '-1.66872388359e-05').  Fixed 'BP_0_2' card to meet the FITS standard. [astropy.io.fits.verify]\n",
      "WARNING: VerifyWarning: Card 'WCSR_PRJ' is not FITS standard (invalid value string: '3.6679e-07').  Fixed 'WCSR_PRJ' card to meet the FITS standard. [astropy.io.fits.verify]\n",
      "WARNING: VerifyWarning: Card 'WCSR_PIX' is not FITS standard (invalid value string: '8.2565e-05').  Fixed 'WCSR_PIX' card to meet the FITS standard. [astropy.io.fits.verify]\n"
     ]
    }
   ],
   "source": [
    "from astropy.io import fits\n",
    "from astropy.wcs import WCS\n",
    "\n",
    "hdul = fits.open(fitsfilename)[0]\n",
    "\n",
    "wcs = WCS(hdul.header)"
   ]
  },
  {
   "cell_type": "code",
   "execution_count": 36,
   "metadata": {},
   "outputs": [
    {
     "data": {
      "text/plain": [
       "<matplotlib.collections.PathCollection at 0x7f4b9195c438>"
      ]
     },
     "execution_count": 36,
     "metadata": {},
     "output_type": "execute_result"
    },
    {
     "data": {
      "image/png": "[encoded data removed]",
      "text/plain": [
       "<Figure size 864x864 with 1 Axes>"
      ]
     },
     "metadata": {
      "needs_background": "light"
     },
     "output_type": "display_data"
    }
   ],
   "source": [
    "wcs = WCS(hdul.header)\n",
    "fig = plt.figure(figsize=(12,12))\n",
    "fig.add_subplot(111, projection=wcs)\n",
    "plt.imshow(hdul.data)\n",
    "plt.scatter([0],[0],c='r',s=500)"
   ]
  },
  {
   "cell_type": "code",
   "execution_count": 16,
   "metadata": {},
   "outputs": [
    {
     "name": "stderr",
     "output_type": "stream",
     "text": [
      "WARNING: VerifyWarning: Verification reported errors: [astropy.io.fits.verify]\n",
      "WARNING: VerifyWarning: Card 'A_2_0' is not FITS standard (invalid value string: '3.29341755408e-05').  Fixed 'A_2_0' card to meet the FITS standard. [astropy.io.fits.verify]\n",
      "WARNING: VerifyWarning: Note: astropy.io.fits uses zero-based indexing.\n",
      " [astropy.io.fits.verify]\n",
      "WARNING: VerifyWarning: Card 'A_1_1' is not FITS standard (invalid value string: '1.51709339878e-05').  Fixed 'A_1_1' card to meet the FITS standard. [astropy.io.fits.verify]\n",
      "WARNING: VerifyWarning: Card 'A_0_2' is not FITS standard (invalid value string: '5.17973753556e-06').  Fixed 'A_0_2' card to meet the FITS standard. [astropy.io.fits.verify]\n",
      "WARNING: VerifyWarning: Card 'B_2_0' is not FITS standard (invalid value string: '2.97627426087e-06').  Fixed 'B_2_0' card to meet the FITS standard. [astropy.io.fits.verify]\n",
      "WARNING: VerifyWarning: Card 'B_1_1' is not FITS standard (invalid value string: '2.71948126373e-05').  Fixed 'B_1_1' card to meet the FITS standard. [astropy.io.fits.verify]\n",
      "WARNING: VerifyWarning: Card 'B_0_2' is not FITS standard (invalid value string: '1.66848449653e-05').  Fixed 'B_0_2' card to meet the FITS standard. [astropy.io.fits.verify]\n",
      "WARNING: VerifyWarning: Card 'AP_1_0' is not FITS standard (invalid value string: '1.79541533196e-06').  Fixed 'AP_1_0' card to meet the FITS standard. [astropy.io.fits.verify]\n",
      "WARNING: VerifyWarning: Card 'AP_0_1' is not FITS standard (invalid value string: '9.20624843151e-07').  Fixed 'AP_0_1' card to meet the FITS standard. [astropy.io.fits.verify]\n",
      "WARNING: VerifyWarning: Card 'AP_2_0' is not FITS standard (invalid value string: '-3.29292923201e-05').  Fixed 'AP_2_0' card to meet the FITS standard. [astropy.io.fits.verify]\n",
      "WARNING: VerifyWarning: Card 'AP_1_1' is not FITS standard (invalid value string: '-1.51738446887e-05').  Fixed 'AP_1_1' card to meet the FITS standard. [astropy.io.fits.verify]\n",
      "WARNING: VerifyWarning: Card 'AP_0_2' is not FITS standard (invalid value string: '-5.18321445978e-06').  Fixed 'AP_0_2' card to meet the FITS standard. [astropy.io.fits.verify]\n",
      "WARNING: VerifyWarning: Card 'BP_1_0' is not FITS standard (invalid value string: '8.99029048217e-07').  Fixed 'BP_1_0' card to meet the FITS standard. [astropy.io.fits.verify]\n",
      "WARNING: VerifyWarning: Card 'BP_0_1' is not FITS standard (invalid value string: '1.15967736014e-06').  Fixed 'BP_0_1' card to meet the FITS standard. [astropy.io.fits.verify]\n",
      "WARNING: VerifyWarning: Card 'BP_2_0' is not FITS standard (invalid value string: '-2.97837492348e-06').  Fixed 'BP_2_0' card to meet the FITS standard. [astropy.io.fits.verify]\n",
      "WARNING: VerifyWarning: Card 'BP_1_1' is not FITS standard (invalid value string: '-2.71998518336e-05').  Fixed 'BP_1_1' card to meet the FITS standard. [astropy.io.fits.verify]\n",
      "WARNING: VerifyWarning: Card 'BP_0_2' is not FITS standard (invalid value string: '-1.66872388359e-05').  Fixed 'BP_0_2' card to meet the FITS standard. [astropy.io.fits.verify]\n",
      "WARNING: VerifyWarning: Card 'WCSR_PRJ' is not FITS standard (invalid value string: '3.6679e-07').  Fixed 'WCSR_PRJ' card to meet the FITS standard. [astropy.io.fits.verify]\n",
      "WARNING: VerifyWarning: Card 'WCSR_PIX' is not FITS standard (invalid value string: '8.2565e-05').  Fixed 'WCSR_PIX' card to meet the FITS standard. [astropy.io.fits.verify]\n"
     ]
    }
   ],
   "source": [
    "hdul = fits.open(fitsfilename)[0]\n",
    "wcs = WCS(hdul.header)"
   ]
  },
  {
   "cell_type": "code",
   "execution_count": 22,
   "metadata": {},
   "outputs": [
    {
     "data": {
      "text/plain": [
       "SIMPLE  =                    T / Fits standard                                  \n",
       "EXTEND  =                    F / Fits standard                                  \n",
       "SIMPLE  =                    T / conforms to FITS standards                     \n",
       "BITPIX  =                  -32 / array data type                                \n",
       "NAXIS   =                    2 / number of array dimensions                     \n",
       "NAXIS1  =                   64                                                  \n",
       "NAXIS2  =                   64                                                  \n",
       "EXTEND  =                    T / file contains extensions                       \n",
       "NEXTEND =                    2 / number of standard extensions                  \n",
       "EXTNAME = 'PRIMARY '           / name of extension                              \n",
       "EXTVER  =                    1 / extension version number (not format version)  \n",
       "SIMDATA =                    F / file is based on simulated data                \n",
       "ORIGIN  = 'NASA/Ames'          / institution responsible for creating this file \n",
       "DATE    = '2018-09-05'         / file creation date.                            \n",
       "TSTART  =     1344.41725968045 / observation start time in TJD                  \n",
       "TSTOP   =     1344.43809300584 / observation stop time in TJD                   \n",
       "DATE-OBS= '2018-08-13T21:59:42.052Z' / TSTART as UTC calendar date              \n",
       "DATE-END= '2018-08-13T22:29:42.052Z' / TSTOP as UTC calendar date               \n",
       "CREATOR = '146 FfiExporter'    / pipeline job and program used to produce this f\n",
       "PROCVER = 'spoc-3.3.31-20180902' / SW version                                   \n",
       "FILEVER = '1.0     '           / file format version                            \n",
       "TIMVERSN= 'OGIP/93-003'        / OGIP memo number for file format               \n",
       "TELESCOP= 'TESS    '           / telescope                                      \n",
       "INSTRUME= 'TESS Photometer'    / detector type                                  \n",
       "DATA_REL=                    1 / data release version number                    \n",
       "ASTATE  =                    T / archive state F indicates single orbit processi\n",
       "SCCONFIG=                  120 / spacecraft configuration ID                    \n",
       "RADESYS = 'ICRS    '           / reference frame of celestial coordinates       \n",
       "EQUINOX =                2000. / equinox of celestial coordinate system         \n",
       "CRMITEN =                    T / spacecraft cosmic ray mitigation enabled       \n",
       "CRBLKSZ =                   10 / [exposures] s/c cosmic ray mitigation block siz\n",
       "CRSPOC  =                    F / SPOC cosmic ray cleaning enabled               \n",
       "CHECKSUM= 'cb4heb4fcb4fcb4f'   / HDU checksum updated 2018-09-05T18:16:26Z      \n",
       "BSCALE  =                   1.                                                  \n",
       "BZERO   =                   0.                                                  \n",
       "FI_HSTRY= 'fitrans: 0.9z6 [0.9.3@2016.09.25] 2019.01.08 10:35:13 (CEST)'        \n",
       "FI_HSTRY= '> fitrans /data/apal/astro/tess/process/s1/fits/tess2018225215942\\'  \n",
       "FI_HSTRY= '> -s0001-4-3-0120-s_ffic.fits --offset 350,1164 --size 64,64'        \n",
       "SQJACOBI=                   1. / square root of Jacobian determinant            \n",
       "MASKINFO= '1'                                                                   \n",
       "WCSAXES =                    2                                                  \n",
       "CTYPE1  = 'RA---TAN-SIP'                                                        \n",
       "CTYPE2  = 'DEC--TAN-SIP'                                                        \n",
       "CRVAL1  =             119.5254                                                  \n",
       "CRVAL2  =             -67.5457                                                  \n",
       "CD1_1   =     -0.0052069385291                                                  \n",
       "CD1_2   =    -0.00170591592593                                                  \n",
       "CD2_1   =     0.00184319514202                                                  \n",
       "CD2_2   =    -0.00539732992018                                                  \n",
       "CRPIX1  =                 32.5                                                  \n",
       "CRPIX2  =                 32.5                                                  \n",
       "A_ORDER =                    2                                                  \n",
       "A_2_0   =    3.29341755408E-05                                                  \n",
       "A_1_1   =    1.51709339878E-05                                                  \n",
       "A_0_2   =    5.17973753556E-06                                                  \n",
       "B_ORDER =                    2                                                  \n",
       "B_2_0   =    2.97627426087E-06                                                  \n",
       "B_1_1   =    2.71948126373E-05                                                  \n",
       "B_0_2   =    1.66848449653E-05                                                  \n",
       "AP_ORDER=                    2                                                  \n",
       "AP_1_0  =    1.79541533196E-06                                                  \n",
       "AP_0_1  =    9.20624843151E-07                                                  \n",
       "AP_2_0  =   -3.29292923201E-05                                                  \n",
       "AP_1_1  =   -1.51738446887E-05                                                  \n",
       "AP_0_2  =   -5.18321445978E-06                                                  \n",
       "BP_ORDER=                    2                                                  \n",
       "BP_1_0  =    8.99029048217E-07                                                  \n",
       "BP_0_1  =    1.15967736014E-06                                                  \n",
       "BP_2_0  =   -2.97837492348E-06                                                  \n",
       "BP_1_1  =   -2.71998518336E-05                                                  \n",
       "BP_0_2  =   -1.66872388359E-05                                                  \n",
       "WCSR_PRJ=           3.6679E-07                                                  \n",
       "WCSR_PIX=           8.2565E-05                                                  "
      ]
     },
     "execution_count": 22,
     "metadata": {},
     "output_type": "execute_result"
    }
   ],
   "source": [
    "hdul.header"
   ]
  },
  {
   "cell_type": "code",
   "execution_count": 31,
   "metadata": {},
   "outputs": [
    {
     "name": "stderr",
     "output_type": "stream",
     "text": [
      "WARNING: VerifyWarning: Verification reported errors: [astropy.io.fits.verify]\n",
      "WARNING: VerifyWarning: Card 'A_2_0' is not FITS standard (invalid value string: '3.29341755408e-05').  Fixed 'A_2_0' card to meet the FITS standard. [astropy.io.fits.verify]\n",
      "WARNING: VerifyWarning: Note: astropy.io.fits uses zero-based indexing.\n",
      " [astropy.io.fits.verify]\n",
      "WARNING: VerifyWarning: Card 'A_1_1' is not FITS standard (invalid value string: '1.51709339878e-05').  Fixed 'A_1_1' card to meet the FITS standard. [astropy.io.fits.verify]\n",
      "WARNING: VerifyWarning: Card 'A_0_2' is not FITS standard (invalid value string: '5.17973753556e-06').  Fixed 'A_0_2' card to meet the FITS standard. [astropy.io.fits.verify]\n",
      "WARNING: VerifyWarning: Card 'B_2_0' is not FITS standard (invalid value string: '2.97627426087e-06').  Fixed 'B_2_0' card to meet the FITS standard. [astropy.io.fits.verify]\n",
      "WARNING: VerifyWarning: Card 'B_1_1' is not FITS standard (invalid value string: '2.71948126373e-05').  Fixed 'B_1_1' card to meet the FITS standard. [astropy.io.fits.verify]\n",
      "WARNING: VerifyWarning: Card 'B_0_2' is not FITS standard (invalid value string: '1.66848449653e-05').  Fixed 'B_0_2' card to meet the FITS standard. [astropy.io.fits.verify]\n",
      "WARNING: VerifyWarning: Card 'AP_1_0' is not FITS standard (invalid value string: '1.79541533196e-06').  Fixed 'AP_1_0' card to meet the FITS standard. [astropy.io.fits.verify]\n",
      "WARNING: VerifyWarning: Card 'AP_0_1' is not FITS standard (invalid value string: '9.20624843151e-07').  Fixed 'AP_0_1' card to meet the FITS standard. [astropy.io.fits.verify]\n",
      "WARNING: VerifyWarning: Card 'AP_2_0' is not FITS standard (invalid value string: '-3.29292923201e-05').  Fixed 'AP_2_0' card to meet the FITS standard. [astropy.io.fits.verify]\n",
      "WARNING: VerifyWarning: Card 'AP_1_1' is not FITS standard (invalid value string: '-1.51738446887e-05').  Fixed 'AP_1_1' card to meet the FITS standard. [astropy.io.fits.verify]\n",
      "WARNING: VerifyWarning: Card 'AP_0_2' is not FITS standard (invalid value string: '-5.18321445978e-06').  Fixed 'AP_0_2' card to meet the FITS standard. [astropy.io.fits.verify]\n",
      "WARNING: VerifyWarning: Card 'BP_1_0' is not FITS standard (invalid value string: '8.99029048217e-07').  Fixed 'BP_1_0' card to meet the FITS standard. [astropy.io.fits.verify]\n",
      "WARNING: VerifyWarning: Card 'BP_0_1' is not FITS standard (invalid value string: '1.15967736014e-06').  Fixed 'BP_0_1' card to meet the FITS standard. [astropy.io.fits.verify]\n",
      "WARNING: VerifyWarning: Card 'BP_2_0' is not FITS standard (invalid value string: '-2.97837492348e-06').  Fixed 'BP_2_0' card to meet the FITS standard. [astropy.io.fits.verify]\n",
      "WARNING: VerifyWarning: Card 'BP_1_1' is not FITS standard (invalid value string: '-2.71998518336e-05').  Fixed 'BP_1_1' card to meet the FITS standard. [astropy.io.fits.verify]\n",
      "WARNING: VerifyWarning: Card 'BP_0_2' is not FITS standard (invalid value string: '-1.66872388359e-05').  Fixed 'BP_0_2' card to meet the FITS standard. [astropy.io.fits.verify]\n",
      "WARNING: VerifyWarning: Card 'WCSR_PRJ' is not FITS standard (invalid value string: '3.6679e-07').  Fixed 'WCSR_PRJ' card to meet the FITS standard. [astropy.io.fits.verify]\n",
      "WARNING: VerifyWarning: Card 'WCSR_PIX' is not FITS standard (invalid value string: '8.2565e-05').  Fixed 'WCSR_PIX' card to meet the FITS standard. [astropy.io.fits.verify]\n"
     ]
    }
   ],
   "source": [
    "from astropy.wcs import WCS\n",
    "w = WCS(fitsfilename)"
   ]
  },
  {
   "cell_type": "code",
   "execution_count": null,
   "metadata": {
    "scrolled": true
   },
   "outputs": [],
   "source": []
  },
  {
   "cell_type": "code",
   "execution_count": null,
   "metadata": {},
   "outputs": [],
   "source": []
  }
 ],
 "metadata": {
  "kernelspec": {
   "display_name": "Python 3",
   "language": "python",
   "name": "python3"
  },
  "language_info": {
   "codemirror_mode": {
    "name": "ipython",
    "version": 3
   },
   "file_extension": ".py",
   "mimetype": "text/x-python",
   "name": "python",
   "nbconvert_exporter": "python",
   "pygments_lexer": "ipython3",
   "version": "3.5.2"
  }
 },
 "nbformat": 4,
 "nbformat_minor": 2
}
